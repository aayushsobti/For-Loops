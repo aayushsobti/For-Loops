{
  "cells": [
    {
      "cell_type": "markdown",
      "metadata": {
        "id": "7d2314fa"
      },
      "source": [
        "# Basic Level"
      ],
      "id": "7d2314fa"
    },
    {
      "cell_type": "code",
      "execution_count": null,
      "metadata": {
        "colab": {
          "background_save": true
        },
        "id": "fdd08dd0"
      },
      "outputs": [],
      "source": [
        "#Que 1"
      ],
      "id": "fdd08dd0"
    },
    {
      "cell_type": "code",
      "execution_count": null,
      "metadata": {
        "id": "46887952"
      },
      "outputs": [],
      "source": [
        "for i in range(11):\n",
        "    print(i)"
      ],
      "id": "46887952"
    },
    {
      "cell_type": "code",
      "execution_count": null,
      "metadata": {
        "id": "d06fe7ec"
      },
      "outputs": [],
      "source": [
        "#Que 2"
      ],
      "id": "d06fe7ec"
    },
    {
      "cell_type": "code",
      "execution_count": null,
      "metadata": {
        "id": "5050136d"
      },
      "outputs": [],
      "source": [
        "l=[1,2,3,4,5]\n",
        "sum=0\n",
        "for i in l:\n",
        "    sum+=i\n",
        "print(sum)"
      ],
      "id": "5050136d"
    },
    {
      "cell_type": "code",
      "execution_count": null,
      "metadata": {
        "id": "68f35c20"
      },
      "outputs": [],
      "source": [
        "#Que 3"
      ],
      "id": "68f35c20"
    },
    {
      "cell_type": "code",
      "execution_count": null,
      "metadata": {
        "id": "98d6f0ab"
      },
      "outputs": [],
      "source": [
        "my_string = \"Hello World\"\n",
        "\n",
        "reversed_string = \"\"\n",
        "\n",
        "for i in range(len(my_string) - 1, -1, -1):\n",
        "    reversed_string += my_string[i]\n",
        "\n",
        "print(reversed_string)\n"
      ],
      "id": "98d6f0ab"
    },
    {
      "cell_type": "code",
      "execution_count": null,
      "metadata": {
        "id": "d7c3b3cd"
      },
      "outputs": [],
      "source": [
        "#Que 4"
      ],
      "id": "d7c3b3cd"
    },
    {
      "cell_type": "code",
      "execution_count": null,
      "metadata": {
        "id": "7c857aca"
      },
      "outputs": [],
      "source": [
        "n=5\n",
        "fact=1\n",
        "for i in range(1,n+1):\n",
        "    fact*=i\n",
        "print(fact)"
      ],
      "id": "7c857aca"
    },
    {
      "cell_type": "code",
      "execution_count": null,
      "metadata": {
        "id": "891f55cf"
      },
      "outputs": [],
      "source": [
        "#Que 5"
      ],
      "id": "891f55cf"
    },
    {
      "cell_type": "code",
      "execution_count": null,
      "metadata": {
        "id": "deea9728"
      },
      "outputs": [],
      "source": [
        "n = 5\n",
        "mul = 1\n",
        "for i in range(1, 11):\n",
        "    mul *= i\n",
        "    print(n, \"*\", i, \"=\", n * i)\n"
      ],
      "id": "deea9728"
    },
    {
      "cell_type": "code",
      "execution_count": null,
      "metadata": {
        "id": "87d27367"
      },
      "outputs": [],
      "source": [
        "#Que 6"
      ],
      "id": "87d27367"
    },
    {
      "cell_type": "code",
      "execution_count": null,
      "metadata": {
        "id": "7d1f3a8b"
      },
      "outputs": [],
      "source": [
        "l=[1,2,3,4,5,6]\n",
        "even=0\n",
        "odd=0\n",
        "for i in l:\n",
        "    if(i%2==0):\n",
        "        even+=1\n",
        "    else:\n",
        "        odd+=1\n",
        "print(even,odd)"
      ],
      "id": "7d1f3a8b"
    },
    {
      "cell_type": "code",
      "execution_count": null,
      "metadata": {
        "id": "ef685c48"
      },
      "outputs": [],
      "source": [
        "#Que 7"
      ],
      "id": "ef685c48"
    },
    {
      "cell_type": "code",
      "execution_count": null,
      "metadata": {
        "id": "d236b551"
      },
      "outputs": [],
      "source": [
        "l=[1,2,3,4,5]\n",
        "for i in l:\n",
        "    print(i*i)"
      ],
      "id": "d236b551"
    },
    {
      "cell_type": "code",
      "execution_count": null,
      "metadata": {
        "id": "f79d0ebc"
      },
      "outputs": [],
      "source": [
        "#Que 8"
      ],
      "id": "f79d0ebc"
    },
    {
      "cell_type": "code",
      "execution_count": null,
      "metadata": {
        "id": "1f704959"
      },
      "outputs": [],
      "source": [
        "s='string'\n",
        "count=0\n",
        "for i in s:\n",
        "    count+=1\n",
        "print(count)"
      ],
      "id": "1f704959"
    },
    {
      "cell_type": "code",
      "execution_count": null,
      "metadata": {
        "id": "b3c047ed"
      },
      "outputs": [],
      "source": [
        "#Que 9"
      ],
      "id": "b3c047ed"
    },
    {
      "cell_type": "code",
      "execution_count": null,
      "metadata": {
        "id": "0a53bc42"
      },
      "outputs": [],
      "source": [
        "l=[1,2,3,4,5]\n",
        "sum=0\n",
        "count=0\n",
        "for i in l:\n",
        "    sum+=i\n",
        "    count+=1\n",
        "print(sum/count)"
      ],
      "id": "0a53bc42"
    },
    {
      "cell_type": "code",
      "execution_count": null,
      "metadata": {
        "id": "0d0c53d1"
      },
      "outputs": [],
      "source": [
        "#Que 10"
      ],
      "id": "0d0c53d1"
    },
    {
      "cell_type": "code",
      "execution_count": null,
      "metadata": {
        "id": "80f65663"
      },
      "outputs": [],
      "source": [
        "a,b=0,1\n",
        "n=int(input(\"Enter range\"))\n",
        "for i in range(n):\n",
        "  print(a)\n",
        "  a,b=b,a+b"
      ],
      "id": "80f65663"
    },
    {
      "cell_type": "code",
      "execution_count": null,
      "metadata": {
        "id": "R1y0UDoTrFAW"
      },
      "outputs": [],
      "source": [
        "#Que 11"
      ],
      "id": "R1y0UDoTrFAW"
    },
    {
      "cell_type": "markdown",
      "metadata": {
        "id": "22a9859f"
      },
      "source": [
        "# Intermediate Level"
      ],
      "id": "22a9859f"
    },
    {
      "cell_type": "code",
      "execution_count": null,
      "metadata": {
        "id": "59279afd"
      },
      "outputs": [],
      "source": [
        "def contains_duplicates(l):\n",
        "    return len(l)!=len(set(l))\n",
        "list=[1,1,2,2,3,3,4,4,5,5]\n",
        "print(contains_duplicates(list))"
      ],
      "id": "59279afd"
    },
    {
      "cell_type": "code",
      "execution_count": null,
      "metadata": {
        "id": "71476650"
      },
      "outputs": [],
      "source": [
        "#Que 12"
      ],
      "id": "71476650"
    },
    {
      "cell_type": "code",
      "execution_count": null,
      "metadata": {
        "id": "Q_zor0ipq0TD"
      },
      "outputs": [],
      "source": [
        "for nums in range(2,50):\n",
        "  is_prime=True\n",
        "  for i in range(2,nums):\n",
        "    if(nums%2==0):\n",
        "      is_prime=False\n",
        "  if is_prime:\n",
        "    print(nums)"
      ],
      "id": "Q_zor0ipq0TD"
    },
    {
      "cell_type": "code",
      "execution_count": null,
      "metadata": {
        "id": "xlfIbPKgyfVk"
      },
      "outputs": [],
      "source": [
        "#Que 13"
      ],
      "id": "xlfIbPKgyfVk"
    },
    {
      "cell_type": "code",
      "execution_count": null,
      "metadata": {
        "id": "AurN91-134u2"
      },
      "outputs": [],
      "source": [
        "v=['a','e','i','o','u']\n",
        "str='aayush'\n",
        "count=0\n",
        "for i in str:\n",
        "  if i in v:\n",
        "    count+=1\n",
        "print(count)"
      ],
      "id": "AurN91-134u2"
    },
    {
      "cell_type": "code",
      "execution_count": null,
      "metadata": {
        "id": "2NoAEZvD4KJ5"
      },
      "outputs": [],
      "source": [],
      "id": "2NoAEZvD4KJ5"
    },
    {
      "cell_type": "code",
      "execution_count": null,
      "metadata": {
        "id": "lmaA25sS-lds"
      },
      "outputs": [],
      "source": [
        "#Que 15"
      ],
      "id": "lmaA25sS-lds"
    },
    {
      "cell_type": "code",
      "execution_count": null,
      "metadata": {
        "id": "S_WNkTBk-nMW"
      },
      "outputs": [],
      "source": [
        "str='aayush'\n",
        "s=''\n",
        "for i in str:\n",
        "  if str[i]=='a':\n",
        "    str[i]=='b'\n",
        "print(str)"
      ],
      "id": "S_WNkTBk-nMW"
    },
    {
      "cell_type": "code",
      "execution_count": null,
      "metadata": {
        "id": "z5XC0R1pGQlP"
      },
      "outputs": [],
      "source": [
        "#Que 16"
      ],
      "id": "z5XC0R1pGQlP"
    },
    {
      "cell_type": "code",
      "execution_count": null,
      "metadata": {
        "id": "hDCSoVvAAGZQ"
      },
      "outputs": [],
      "source": [
        "for i in range(6):\n",
        "  for j in range(1,11):\n",
        "    print(f\"{i}*{j}={i*j}\")\n",
        "  print()"
      ],
      "id": "hDCSoVvAAGZQ"
    },
    {
      "cell_type": "code",
      "execution_count": null,
      "metadata": {
        "id": "xzm3Yu_nHFrm"
      },
      "outputs": [],
      "source": [
        "#Que 17"
      ],
      "id": "xzm3Yu_nHFrm"
    },
    {
      "cell_type": "code",
      "execution_count": null,
      "metadata": {
        "id": "9xbzFLLNA_Mw"
      },
      "outputs": [],
      "source": [
        "f=int(input(\"enter f\"))\n",
        "c=((f-32)*5)/9\n",
        "print(c)"
      ],
      "id": "9xbzFLLNA_Mw"
    },
    {
      "cell_type": "code",
      "execution_count": null,
      "metadata": {
        "id": "dYFCsP3IG8Fe"
      },
      "outputs": [],
      "source": [
        "#Que 18"
      ],
      "id": "dYFCsP3IG8Fe"
    },
    {
      "cell_type": "code",
      "execution_count": null,
      "metadata": {
        "id": "bFzsOQA9Hyos"
      },
      "outputs": [],
      "source": [
        "l1=['Man']\n",
        "l2=['Woman']\n",
        "l=[]\n",
        "for i in l1:\n",
        "  for j in l2:\n",
        "    if i==j:\n",
        "      l.append(j)\n",
        "print(l)"
      ],
      "id": "bFzsOQA9Hyos"
    },
    {
      "cell_type": "code",
      "execution_count": null,
      "metadata": {
        "id": "Msin3za3KEcj"
      },
      "outputs": [],
      "source": [
        "#Que 19"
      ],
      "id": "Msin3za3KEcj"
    },
    {
      "cell_type": "code",
      "source": [
        "for i in range(5):\n",
        "  for j in range(i+1):\n",
        "    print(\"*\",end=' ')\n",
        "  print()"
      ],
      "metadata": {
        "id": "5SeqDmg6TX0l",
        "colab": {
          "base_uri": "https://localhost:8080/"
        },
        "outputId": "1792e1ea-1942-428d-e663-19f68a85962e"
      },
      "id": "5SeqDmg6TX0l",
      "execution_count": 21,
      "outputs": [
        {
          "output_type": "stream",
          "name": "stdout",
          "text": [
            "* \n",
            "* * \n",
            "* * * \n",
            "* * * * \n",
            "* * * * * \n"
          ]
        }
      ]
    },
    {
      "cell_type": "code",
      "source": [
        "#Que 20"
      ],
      "metadata": {
        "id": "XBEUiJyZTZ24"
      },
      "id": "XBEUiJyZTZ24",
      "execution_count": null,
      "outputs": []
    },
    {
      "cell_type": "code",
      "source": [
        "a,b=12,18\n",
        "while b:\n",
        "  a, b = b, a % b\n",
        "\n",
        "print(\"The greatest common divisor of\", a, \"and\", b, \"is\", a)"
      ],
      "metadata": {
        "id": "pcrIT5h0Tbm4",
        "colab": {
          "base_uri": "https://localhost:8080/"
        },
        "outputId": "c2fda943-8a45-4f7a-85b9-5f1856494220"
      },
      "id": "pcrIT5h0Tbm4",
      "execution_count": 23,
      "outputs": [
        {
          "output_type": "stream",
          "name": "stdout",
          "text": [
            "The greatest common divisor of 6 and 0 is 6\n"
          ]
        }
      ]
    },
    {
      "cell_type": "markdown",
      "source": [
        "Advanced Level"
      ],
      "metadata": {
        "id": "XZaguvJCTxzR"
      },
      "id": "XZaguvJCTxzR"
    },
    {
      "cell_type": "code",
      "source": [
        "#Que 21"
      ],
      "metadata": {
        "id": "l2au-67KTzWU"
      },
      "id": "l2au-67KTzWU",
      "execution_count": null,
      "outputs": []
    },
    {
      "cell_type": "code",
      "source": [
        "l=[1,2,3,4,5]\n",
        "sum=sum(x for x in l)\n",
        "print(sum)"
      ],
      "metadata": {
        "id": "AMYCHXgjT5Pp",
        "colab": {
          "base_uri": "https://localhost:8080/"
        },
        "outputId": "163fe0ee-575c-40ab-d3b2-39d63f378e89"
      },
      "id": "AMYCHXgjT5Pp",
      "execution_count": 22,
      "outputs": [
        {
          "output_type": "stream",
          "name": "stdout",
          "text": [
            "15\n"
          ]
        }
      ]
    },
    {
      "cell_type": "code",
      "source": [
        "#Que 22"
      ],
      "metadata": {
        "id": "TeCnWlcIT5vX"
      },
      "id": "TeCnWlcIT5vX",
      "execution_count": null,
      "outputs": []
    },
    {
      "cell_type": "code",
      "source": [
        "n = int(input(\"Enter a number: \"))\n",
        "factors = []\n",
        "for i in range(2, int(n ** 0.5) + 1):\n",
        "  if n % i == 0:\n",
        "    factors.append(i)\n",
        "    while n % i == 0:\n",
        "      n //= i\n",
        "if n > 1:\n",
        "  factors.append(n)\n",
        "print(factors)"
      ],
      "metadata": {
        "id": "SjEtXAUMT66_",
        "colab": {
          "base_uri": "https://localhost:8080/"
        },
        "outputId": "907240c6-fb67-473d-da48-aabe72909254"
      },
      "id": "SjEtXAUMT66_",
      "execution_count": 24,
      "outputs": [
        {
          "output_type": "stream",
          "name": "stdout",
          "text": [
            "Enter a number: 5\n",
            "[5]\n"
          ]
        }
      ]
    },
    {
      "cell_type": "code",
      "source": [
        "#Que 23"
      ],
      "metadata": {
        "id": "E39FxlilT7MJ"
      },
      "id": "E39FxlilT7MJ",
      "execution_count": null,
      "outputs": []
    },
    {
      "cell_type": "code",
      "source": [
        "l1=[1,1,2,2,3,3,4,4]\n",
        "l2=[]\n",
        "s=set(l1)\n",
        "for i in s:\n",
        "  l2.append(i)\n",
        "print(l2)"
      ],
      "metadata": {
        "colab": {
          "base_uri": "https://localhost:8080/"
        },
        "id": "ap3nyFRyT8TG",
        "outputId": "54cb6e92-8abc-416c-a729-d84cf8424af6"
      },
      "id": "ap3nyFRyT8TG",
      "execution_count": null,
      "outputs": [
        {
          "output_type": "stream",
          "name": "stdout",
          "text": [
            "[1, 2, 3, 4]\n"
          ]
        }
      ]
    },
    {
      "cell_type": "code",
      "source": [
        "#Que 24"
      ],
      "metadata": {
        "id": "lr99fE8SURVg"
      },
      "id": "lr99fE8SURVg",
      "execution_count": 1,
      "outputs": []
    },
    {
      "cell_type": "code",
      "source": [
        "limit = int(input(\"Enter a limit: \"))\n",
        "palindromes = []\n",
        "for n in range(limit):\n",
        "  if str(n) == str(n)[::-1]:\n",
        "    palindromes.append(n)\n",
        "print(palindromes)"
      ],
      "metadata": {
        "colab": {
          "base_uri": "https://localhost:8080/"
        },
        "id": "VVxgoVwTQP8n",
        "outputId": "381c7d6c-f996-48f3-bf81-3f2630ffaa2d"
      },
      "id": "VVxgoVwTQP8n",
      "execution_count": 26,
      "outputs": [
        {
          "output_type": "stream",
          "name": "stdout",
          "text": [
            "Enter a limit: 100\n",
            "[0, 1, 2, 3, 4, 5, 6, 7, 8, 9, 11, 22, 33, 44, 55, 66, 77, 88, 99]\n"
          ]
        }
      ]
    },
    {
      "cell_type": "code",
      "source": [
        "#Que 25"
      ],
      "metadata": {
        "id": "I5RMHPcm9E8U"
      },
      "id": "I5RMHPcm9E8U",
      "execution_count": 3,
      "outputs": []
    },
    {
      "cell_type": "code",
      "source": [
        "nested_list = [[1, 2], [3, 4], [5, 6]]\n",
        "flattened_list = []\n",
        "for sublist in nested_list:\n",
        "  for item in sublist:\n",
        "    flattened_list.append(item)\n",
        "print(flattened_list)"
      ],
      "metadata": {
        "colab": {
          "base_uri": "https://localhost:8080/"
        },
        "id": "OEYOrE4oQshj",
        "outputId": "da0a961f-b1c3-4ead-880c-fcc37033f57e"
      },
      "id": "OEYOrE4oQshj",
      "execution_count": 28,
      "outputs": [
        {
          "output_type": "stream",
          "name": "stdout",
          "text": [
            "[1, 2, 3, 4, 5, 6]\n"
          ]
        }
      ]
    },
    {
      "cell_type": "code",
      "source": [
        "#Que 26"
      ],
      "metadata": {
        "id": "IJecdG3E9Svy"
      },
      "id": "IJecdG3E9Svy",
      "execution_count": 2,
      "outputs": []
    },
    {
      "cell_type": "code",
      "source": [
        "l=[1,2,3,4,5,6,7]\n",
        "even_sum=sum(x for x in l if x%2==0)\n",
        "odd_sum=sum(x for x in l if x%2!=0)\n",
        "print(even_sum,odd_sum)"
      ],
      "metadata": {
        "colab": {
          "base_uri": "https://localhost:8080/"
        },
        "id": "6SKcen6z9Wj0",
        "outputId": "4ba56bda-ff83-42d7-c9c0-b9552e888a39"
      },
      "id": "6SKcen6z9Wj0",
      "execution_count": 10,
      "outputs": [
        {
          "output_type": "stream",
          "name": "stdout",
          "text": [
            "12 16\n"
          ]
        }
      ]
    },
    {
      "cell_type": "code",
      "source": [
        "#Que 27"
      ],
      "metadata": {
        "id": "RrK_0_oR9wq7"
      },
      "id": "RrK_0_oR9wq7",
      "execution_count": 11,
      "outputs": []
    },
    {
      "cell_type": "code",
      "source": [
        "digits=[x**2 for x in range(1,11) if x%2!=0]\n",
        "print(digits)"
      ],
      "metadata": {
        "colab": {
          "base_uri": "https://localhost:8080/"
        },
        "id": "1wpnXpW_Abtn",
        "outputId": "81ff1575-fc8e-44d6-d5a2-36915af0d1b8"
      },
      "id": "1wpnXpW_Abtn",
      "execution_count": 12,
      "outputs": [
        {
          "output_type": "stream",
          "name": "stdout",
          "text": [
            "[1, 9, 25, 49, 81]\n"
          ]
        }
      ]
    },
    {
      "cell_type": "code",
      "source": [
        "#Que 28"
      ],
      "metadata": {
        "id": "ScQH7-ikA8kG"
      },
      "id": "ScQH7-ikA8kG",
      "execution_count": 13,
      "outputs": []
    },
    {
      "cell_type": "code",
      "source": [
        "list1 = [\"a\", \"b\", \"c\"]\n",
        "list2 = [1, 2, 3]\n",
        "combined_dict = {}\n",
        "for i in range(len(list1)):\n",
        "  combined_dict[list1[i]] = list2[i]\n",
        "print(combined_dict)"
      ],
      "metadata": {
        "colab": {
          "base_uri": "https://localhost:8080/"
        },
        "id": "RGdXNXBXB1EU",
        "outputId": "833c14c9-2832-46f0-cce6-2aa6b8222cb0"
      },
      "id": "RGdXNXBXB1EU",
      "execution_count": 29,
      "outputs": [
        {
          "output_type": "stream",
          "name": "stdout",
          "text": [
            "{'a': 1, 'b': 2, 'c': 3}\n"
          ]
        }
      ]
    },
    {
      "cell_type": "code",
      "source": [
        "#Que 29"
      ],
      "metadata": {
        "id": "YXEHw-d9B25A"
      },
      "id": "YXEHw-d9B25A",
      "execution_count": 15,
      "outputs": []
    },
    {
      "cell_type": "code",
      "source": [
        "v=['a','e','i','o','u']\n",
        "s='string'\n",
        "digits=[]\n",
        "vowels=[x for x in s if x in v]\n",
        "digits.append(vowels)\n",
        "print(digits)"
      ],
      "metadata": {
        "colab": {
          "base_uri": "https://localhost:8080/"
        },
        "id": "10yfg6KeB5LW",
        "outputId": "811cc49b-0188-425e-862e-08913b9607bc"
      },
      "id": "10yfg6KeB5LW",
      "execution_count": 16,
      "outputs": [
        {
          "output_type": "stream",
          "name": "stdout",
          "text": [
            "[['i']]\n"
          ]
        }
      ]
    },
    {
      "cell_type": "code",
      "source": [
        "#Que 30"
      ],
      "metadata": {
        "id": "P7r-4XUdC1J2"
      },
      "id": "P7r-4XUdC1J2",
      "execution_count": 17,
      "outputs": []
    },
    {
      "cell_type": "code",
      "source": [
        "strings=['12345','abc123','bcde123']\n",
        "new_strings=[''.join(c for c in strings if c.isdigit()) for string in strings]\n",
        "print(new_strings)"
      ],
      "metadata": {
        "colab": {
          "base_uri": "https://localhost:8080/"
        },
        "id": "Ubcaupg2I1ZC",
        "outputId": "aa422213-21d5-439b-d633-38c2dee98484"
      },
      "id": "Ubcaupg2I1ZC",
      "execution_count": 19,
      "outputs": [
        {
          "output_type": "stream",
          "name": "stdout",
          "text": [
            "['12345', '12345', '12345']\n"
          ]
        }
      ]
    },
    {
      "cell_type": "code",
      "source": [],
      "metadata": {
        "id": "CxIcIN5-J7C4"
      },
      "id": "CxIcIN5-J7C4",
      "execution_count": null,
      "outputs": []
    }
  ],
  "metadata": {
    "colab": {
      "provenance": []
    },
    "kernelspec": {
      "display_name": "Python 3 (ipykernel)",
      "language": "python",
      "name": "python3"
    },
    "language_info": {
      "codemirror_mode": {
        "name": "ipython",
        "version": 3
      },
      "file_extension": ".py",
      "mimetype": "text/x-python",
      "name": "python",
      "nbconvert_exporter": "python",
      "pygments_lexer": "ipython3",
      "version": "3.11.4"
    }
  },
  "nbformat": 4,
  "nbformat_minor": 5
}